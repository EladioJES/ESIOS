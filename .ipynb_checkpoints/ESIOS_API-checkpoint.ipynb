{
 "cells": [
  {
   "cell_type": "markdown",
   "metadata": {},
   "source": [
    "# API ESIOS"
   ]
  },
  {
   "cell_type": "markdown",
   "metadata": {},
   "source": [
    "## Import libraries"
   ]
  },
  {
   "cell_type": "code",
   "execution_count": 1,
   "metadata": {
    "id": "kWXr2O8Pczfm"
   },
   "outputs": [
    {
     "name": "stderr",
     "output_type": "stream",
     "text": [
      "<frozen importlib._bootstrap>:219: RuntimeWarning: scipy._lib.messagestream.MessageStream size changed, may indicate binary incompatibility. Expected 56 from C header, got 64 from PyObject\n"
     ]
    }
   ],
   "source": [
    "import pandas as pd\n",
    "import requests\n",
    "import matplotlib.pyplot as plt\n",
    "import seaborn as sns"
   ]
  },
  {
   "cell_type": "markdown",
   "metadata": {},
   "source": [
    "## Set headers for API REST request"
   ]
  },
  {
   "cell_type": "code",
   "execution_count": 2,
   "metadata": {
    "id": "C3GUz0Xle9S5"
   },
   "outputs": [
    {
     "data": {
      "text/plain": [
       "{'Accept': 'application/json; application/vnd.esios-api-v1+json',\n",
       " 'Content-Type': 'application/json',\n",
       " 'Host': 'api.esios.ree.es',\n",
       " 'x-api-key': 'b69f49f19668733416d36d75533072cba8ebf0562564dc2efc32ca04a9dc756e',\n",
       " 'Cookie': ''}"
      ]
     },
     "execution_count": 2,
     "metadata": {},
     "output_type": "execute_result"
    }
   ],
   "source": [
    "token = 'b69f49f19668733416d36d75533072cba8ebf0562564dc2efc32ca04a9dc756e'\n",
    "headers = dict()\n",
    "headers['Accept'] = 'application/json; application/vnd.esios-api-v1+json'\n",
    "headers['Content-Type'] = 'application/json'\n",
    "headers['Host'] = 'api.esios.ree.es'\n",
    "headers['x-api-key'] = token\n",
    "headers['Cookie'] = ''\n",
    "\n",
    "headers"
   ]
  },
  {
   "cell_type": "code",
   "execution_count": 3,
   "metadata": {},
   "outputs": [
    {
     "data": {
      "text/plain": [
       "200"
      ]
     },
     "execution_count": 3,
     "metadata": {},
     "output_type": "execute_result"
    }
   ],
   "source": [
    "params = {'start_date': '2023-04-01T00:00', 'end_date': '2023-04-19T23:00'}\n",
    "    # https://api.esios.ree.es/indicators/1373?start_date=' + '2023-04-10T00:00:00' + 'Z&end_date=' + '2023-04-10T23:00:00' + 'Z'\n",
    "response = requests.get('https://api.esios.ree.es/indicators/600', headers=headers, params=params)\n",
    "response.status_code"
   ]
  },
  {
   "cell_type": "code",
   "execution_count": 4,
   "metadata": {},
   "outputs": [],
   "source": [
    "df = pd.DataFrame(response.json()['indicator']['values'])"
   ]
  },
  {
   "cell_type": "code",
   "execution_count": 5,
   "metadata": {},
   "outputs": [],
   "source": [
    "df.datetime = pd.to_datetime(df.datetime, utc = True)"
   ]
  },
  {
   "cell_type": "markdown",
   "metadata": {},
   "source": [
    "## GET request"
   ]
  },
  {
   "cell_type": "markdown",
   "metadata": {},
   "source": [
    "### Request for list of existing indicators in the API"
   ]
  },
  {
   "cell_type": "code",
   "execution_count": null,
   "metadata": {
    "colab": {
     "base_uri": "https://localhost:8080/"
    },
    "id": "a4mo6CQsvVg-",
    "outputId": "6f305650-d978-4957-fcec-59251f9930f5"
   },
   "outputs": [],
   "source": [
    "r = requests.get('https://api.esios.ree.es/indicators' , headers=headers) # This url returns an indexed table with all indicators provided through the API\n",
    "r.status_code"
   ]
  },
  {
   "cell_type": "code",
   "execution_count": null,
   "metadata": {
    "id": "sMy99DoVvc1z"
   },
   "outputs": [],
   "source": [
    "indice = pd.DataFrame((r.json()[\"indicators\"]))"
   ]
  },
  {
   "cell_type": "code",
   "execution_count": null,
   "metadata": {
    "id": "bfPta0Gp6mEy"
   },
   "outputs": [],
   "source": [
    "indice.to_excel(\"indice_datos_ESIOS.xlsx\", index=False)"
   ]
  },
  {
   "cell_type": "code",
   "execution_count": null,
   "metadata": {
    "id": "l7u7A3U8R_FQ"
   },
   "outputs": [],
   "source": [
    "l = requests.get('https://api.esios.ree.es/indicators/1373?start_date=' + '2023-04-10T00:00:00' + 'Z&end_date=' + '2023-04-10T23:00:00' + 'Z', headers=headers)"
   ]
  },
  {
   "cell_type": "code",
   "execution_count": null,
   "metadata": {
    "colab": {
     "base_uri": "https://localhost:8080/"
    },
    "id": "EOprZRmYSEMn",
    "outputId": "183c6eff-1bb5-4f6b-e0d9-a8f0baec3613"
   },
   "outputs": [],
   "source": [
    "l.status_code"
   ]
  },
  {
   "cell_type": "code",
   "execution_count": null,
   "metadata": {},
   "outputs": [],
   "source": [
    "indicator = '1929'"
   ]
  },
  {
   "cell_type": "code",
   "execution_count": null,
   "metadata": {
    "id": "avLs4Y6DxCmC"
   },
   "outputs": [],
   "source": [
    "l = requests.get('https://api.esios.ree.es/indicators/' + indicator + '?start_date=' + '2022-10-01T00:00:00' + 'Z&end_date=' + '2023-04-17T23:00:00' + 'Z', headers=headers)\n",
    "l.status_code"
   ]
  },
  {
   "cell_type": "code",
   "execution_count": null,
   "metadata": {
    "id": "SVlF2AG2zfIj"
   },
   "outputs": [],
   "source": [
    "ll = requests.get('https://api.esios.ree.es/indicators/683?start_date=' + '2023-01-01T00:00:00' + 'Z&end_date=' + '2023-03-30T00:00:00' + 'Z', headers=headers)"
   ]
  },
  {
   "cell_type": "code",
   "execution_count": null,
   "metadata": {
    "id": "gB8Q0exzxU6G"
   },
   "outputs": [],
   "source": [
    "df = pd.DataFrame(l.json()['indicator'][\"values\"])"
   ]
  },
  {
   "cell_type": "code",
   "execution_count": null,
   "metadata": {
    "colab": {
     "base_uri": "https://localhost:8080/"
    },
    "id": "qEgnU_D7jQR4",
    "outputId": "7c6e5bec-fa69-4102-b8de-997fe35466b0"
   },
   "outputs": [],
   "source": [
    "df.rename(columns={'value':'Fase_I_subir'}, inplace=True)\n",
    "df.columns"
   ]
  },
  {
   "cell_type": "code",
   "execution_count": null,
   "metadata": {
    "colab": {
     "base_uri": "https://localhost:8080/",
     "height": 802
    },
    "id": "EM7Xj4Dzjx-2",
    "outputId": "e25c94e5-0d68-423e-ec67-5b9514d6b125"
   },
   "outputs": [],
   "source": [
    "pd.to_datetime(df.datetime)"
   ]
  },
  {
   "cell_type": "code",
   "execution_count": null,
   "metadata": {
    "id": "p2PsWjSZSHaX"
   },
   "outputs": [],
   "source": [
    "df.datetime = pd.to_datetime(df.datetime, utc = True)"
   ]
  },
  {
   "cell_type": "code",
   "execution_count": null,
   "metadata": {
    "colab": {
     "base_uri": "https://localhost:8080/"
    },
    "id": "uRcKbs8ESKtn",
    "outputId": "4b5a5914-f7dc-4dcd-b28b-080dd78b23e7"
   },
   "outputs": [],
   "source": [
    "df = (df[[\"datetime\",\"geo_name\",\"value\"]])\n",
    "df.datetime = pd.to_datetime(df.datetime, utc = True)"
   ]
  },
  {
   "cell_type": "code",
   "execution_count": null,
   "metadata": {
    "id": "U2R4tMGRTO8H"
   },
   "outputs": [],
   "source": [
    "df.set_index(\"datetime\", inplace = True)"
   ]
  },
  {
   "cell_type": "code",
   "execution_count": null,
   "metadata": {
    "colab": {
     "base_uri": "https://localhost:8080/",
     "height": 455
    },
    "id": "PgAsTJcGUNFG",
    "outputId": "a653f447-7470-42ff-ce20-27d9ce1a9401"
   },
   "outputs": [],
   "source": [
    "sns.lineplot(data = df, )"
   ]
  },
  {
   "cell_type": "code",
   "execution_count": null,
   "metadata": {
    "id": "H44eYaTbS66B"
   },
   "outputs": [],
   "source": [
    "df.reset_index(inplace = True)"
   ]
  },
  {
   "cell_type": "code",
   "execution_count": null,
   "metadata": {
    "colab": {
     "base_uri": "https://localhost:8080/"
    },
    "id": "lfKslbAKUls6",
    "outputId": "4e87fb1b-47d1-4cc5-ca11-4d8917cec1b2"
   },
   "outputs": [],
   "source": [
    "df[\"Month\"] = df.datetime.dt.month\n",
    "df[\"Day\"] = df.datetime.dt.day"
   ]
  },
  {
   "cell_type": "code",
   "execution_count": null,
   "metadata": {
    "colab": {
     "base_uri": "https://localhost:8080/",
     "height": 455
    },
    "id": "AwUFVZReU4yo",
    "outputId": "58a8dcd4-0d1d-46a8-cd14-42ce2014ef7d"
   },
   "outputs": [],
   "source": [
    "df.query('geo_name == \"España\"').groupby([\"Month\",\"Day\"], as_index=False).agg({\"value\":[\"max\",\"min\"]})"
   ]
  },
  {
   "cell_type": "code",
   "execution_count": null,
   "metadata": {
    "id": "qGhWP2Gj0Em6"
   },
   "outputs": [],
   "source": [
    "df2 = pd.DataFrame(ll.json()['indicator'][\"values\"])[[\"datetime\",\"value\"]]"
   ]
  },
  {
   "cell_type": "code",
   "execution_count": null,
   "metadata": {
    "id": "IkAKy2m7ypwS"
   },
   "outputs": [],
   "source": [
    "df2.datetime = pd.to_datetime(df2.datetime, utc = True)\n",
    "df.datetime = pd.to_datetime(df.datetime, utc = True)"
   ]
  },
  {
   "cell_type": "code",
   "execution_count": null,
   "metadata": {
    "colab": {
     "base_uri": "https://localhost:8080/",
     "height": 424
    },
    "id": "qMbMG4c75I_d",
    "outputId": "cf7c745c-af2f-41b5-bb66-5f237d58ce37"
   },
   "outputs": [],
   "source": [
    "df"
   ]
  },
  {
   "cell_type": "code",
   "execution_count": null,
   "metadata": {
    "colab": {
     "base_uri": "https://localhost:8080/",
     "height": 424
    },
    "id": "zkOIt6ex5ZAz",
    "outputId": "46269e79-bad1-42ed-a47a-68aa80f0542c"
   },
   "outputs": [],
   "source": [
    "df2"
   ]
  },
  {
   "cell_type": "code",
   "execution_count": null,
   "metadata": {
    "id": "R_VGYO_90Li1"
   },
   "outputs": [],
   "source": [
    "df = df.set_index(\"datetime\")\n",
    "df2 = df2.set_index(\"datetime\")"
   ]
  },
  {
   "cell_type": "code",
   "execution_count": null,
   "metadata": {
    "id": "E3zJhvgJzK5K"
   },
   "outputs": [],
   "source": [
    "df = df.rename(columns = {\"value\":\"EUR_MWh_SUBIR\"})\n",
    "df2 = df2.rename(columns = {\"EUR_MWh_SUBIR\":\"EUR_MWh_BAJAR\"})"
   ]
  },
  {
   "cell_type": "code",
   "execution_count": null,
   "metadata": {
    "id": "4hM2eutr5uwy"
   },
   "outputs": [],
   "source": [
    "df3 = df.join(df2)"
   ]
  },
  {
   "cell_type": "code",
   "execution_count": null,
   "metadata": {
    "colab": {
     "base_uri": "https://localhost:8080/",
     "height": 461
    },
    "id": "HN9TT6z8Ry6g",
    "outputId": "40716c2d-866a-44bd-ef6d-c0973403c64e"
   },
   "outputs": [],
   "source": [
    "df3.plot()"
   ]
  },
  {
   "cell_type": "code",
   "execution_count": null,
   "metadata": {
    "id": "lgn4hdT66IFS"
   },
   "outputs": [],
   "source": [
    "df3.to_csv(\"precios_secundaria_2023.csv\")"
   ]
  },
  {
   "cell_type": "code",
   "execution_count": null,
   "metadata": {
    "id": "5FIU4PLD2a_d"
   },
   "outputs": [],
   "source": [
    "df = df.rename(columns = {\"value\":\"EUR_MWh_SUBIR\"})"
   ]
  },
  {
   "cell_type": "code",
   "execution_count": null,
   "metadata": {
    "id": "eLnddfs308Hm"
   },
   "outputs": [],
   "source": [
    "df2.rename(columns={\"value\":\"EUR_MWh_BAJAR\"}, inplace=True)"
   ]
  },
  {
   "cell_type": "code",
   "execution_count": null,
   "metadata": {
    "colab": {
     "base_uri": "https://localhost:8080/"
    },
    "id": "cL812prH3QqT",
    "outputId": "19765acf-aa38-497a-8b20-4fe71fa22efe"
   },
   "outputs": [],
   "source": [
    "df.index"
   ]
  },
  {
   "cell_type": "code",
   "execution_count": null,
   "metadata": {
    "colab": {
     "base_uri": "https://localhost:8080/"
    },
    "id": "zP24cewl3JGE",
    "outputId": "27a3b4f8-1b0c-4382-85a0-fc6191395975"
   },
   "outputs": [],
   "source": [
    "df2.index "
   ]
  },
  {
   "cell_type": "code",
   "execution_count": null,
   "metadata": {
    "colab": {
     "base_uri": "https://localhost:8080/",
     "height": 455
    },
    "id": "McoQYavB0qwG",
    "outputId": "e4345afa-77fb-4522-cccc-fb1fdbd4d230"
   },
   "outputs": [],
   "source": [
    "df.join(df2)"
   ]
  },
  {
   "cell_type": "code",
   "execution_count": null,
   "metadata": {
    "colab": {
     "base_uri": "https://localhost:8080/",
     "height": 235
    },
    "id": "ub8Sf-Ac5h-Y",
    "outputId": "3943b9d0-df61-4834-ea56-03d37af39471"
   },
   "outputs": [],
   "source": [
    "d = []\n",
    "for r in drse.iterrows():\n",
    "  l = requests.get('https://api.esios.ree.es/indicators/682?start_date=' + r[1][\"start\"] + 'Z&end_date=' + r[1][\"end\"] + 'Z', headers=headers)\n",
    "  for t in l.json()['indicator']['values']:\n",
    "    d.append(t)"
   ]
  },
  {
   "cell_type": "code",
   "execution_count": null,
   "metadata": {
    "id": "b3AI-JU27xHI"
   },
   "outputs": [],
   "source": [
    "df = pd.DataFrame(d)"
   ]
  },
  {
   "cell_type": "code",
   "execution_count": null,
   "metadata": {
    "colab": {
     "base_uri": "https://localhost:8080/",
     "height": 450
    },
    "id": "sSfiCiOZAbSL",
    "outputId": "b40ef349-66fe-4d4e-99ac-32b7e0be708a"
   },
   "outputs": [],
   "source": [
    "df.plot(x = 'datetime', y = 'value', figsize = (25,7))"
   ]
  },
  {
   "cell_type": "code",
   "execution_count": null,
   "metadata": {
    "id": "hsb_OQ5OAtN-"
   },
   "outputs": [],
   "source": [
    "df.to_parquet('demand_esp.parquet', index = False)"
   ]
  },
  {
   "cell_type": "code",
   "execution_count": null,
   "metadata": {
    "colab": {
     "base_uri": "https://localhost:8080/"
    },
    "id": "cPdODo1oBMkN",
    "outputId": "5e422e91-0178-4b0a-cfb8-8e108a338036"
   },
   "outputs": [],
   "source": [
    "df.columns"
   ]
  },
  {
   "cell_type": "code",
   "execution_count": null,
   "metadata": {
    "id": "9GpImc7oBbAk"
   },
   "outputs": [],
   "source": [
    "df.datetime = pd.to_datetime(df.datetime)"
   ]
  },
  {
   "cell_type": "code",
   "execution_count": null,
   "metadata": {
    "id": "6WcCD48egZGY"
   },
   "outputs": [],
   "source": [
    "df.rename(columns={\"geo_name\":\"unique_id\",\n",
    "                   \"datetime\":\"ds\",\n",
    "                   \"value\":\"y\"}, inplace = True)"
   ]
  },
  {
   "cell_type": "code",
   "execution_count": null,
   "metadata": {
    "colab": {
     "base_uri": "https://localhost:8080/",
     "height": 206
    },
    "id": "gwTHBCb0CVaj",
    "outputId": "d2983fd3-a2a5-423f-d19e-44a6b2458062"
   },
   "outputs": [],
   "source": [
    "df.drop(columns=['datetime_utc', 'tz_time', 'geo_id'], inplace=True)\n",
    "df.head()"
   ]
  },
  {
   "cell_type": "code",
   "execution_count": null,
   "metadata": {
    "id": "zdmLNHA_CiUK"
   },
   "outputs": [],
   "source": [
    "df = df[[\"unique_id\",\"ds\",\"y\"]]"
   ]
  },
  {
   "cell_type": "code",
   "execution_count": null,
   "metadata": {
    "colab": {
     "base_uri": "https://localhost:8080/",
     "height": 1000
    },
    "id": "nJhQyhgFCoFo",
    "outputId": "7383505f-73e3-41f5-aa3c-0f7184a63b5f"
   },
   "outputs": [],
   "source": [
    "!pip install statsforecast\n",
    "!pip install datasetsforecast\n",
    "!pip install prophet\n",
    "!pip install \"neuralprophet[live]\""
   ]
  },
  {
   "cell_type": "code",
   "execution_count": null,
   "metadata": {
    "colab": {
     "base_uri": "https://localhost:8080/",
     "height": 539
    },
    "id": "Yhkep4roDXMt",
    "outputId": "02e6dcbb-1e22-49d8-9e7e-0dbb2aaec895"
   },
   "outputs": [],
   "source": [
    "from statsforecast import StatsForecast\n",
    "from statsforecast.models import MSTL, AutoARIMA, SeasonalNaive\n",
    "from statsforecast.utils import AirPassengers as ap"
   ]
  },
  {
   "cell_type": "markdown",
   "metadata": {},
   "source": [
    "## definición función API"
   ]
  },
  {
   "cell_type": "code",
   "execution_count": null,
   "metadata": {},
   "outputs": [],
   "source": [
    "def esios_api(indicator:int, token:str, start_date:str, end_date:str, headers:dict):\n",
    "    response = requests.get('https://api.esios.ree.es/indicators/' + str(indicator) + '?start_date=' + start_date + 'Z&end_date=' + end_date + 'Z', headers=headers)\n",
    "    if response.status_code != 200:\n",
    "        raise ValueError(f'Request failed with status code {response.status_code}: {response.text}')\n",
    "    print(response.status_code)\n",
    "    \n",
    "    return response.json()"
   ]
  },
  {
   "cell_type": "code",
   "execution_count": null,
   "metadata": {},
   "outputs": [],
   "source": [
    "df = pd.DataFrame(esios_api(600, token, '2023-04-01T00:00', '2023-04-19T00:00', headers=headers)['indicator']['values'])\n",
    "df.datetime = pd.to_datetime(df.datetime, utc = True)"
   ]
  },
  {
   "cell_type": "code",
   "execution_count": null,
   "metadata": {},
   "outputs": [],
   "source": [
    "%matplotlib inline"
   ]
  },
  {
   "cell_type": "code",
   "execution_count": null,
   "metadata": {},
   "outputs": [],
   "source": [
    "df.query(\"geo_name == 'España'\").plot(x = 'datetime', y = 'value')"
   ]
  },
  {
   "cell_type": "markdown",
   "metadata": {},
   "source": [
    "## Dash"
   ]
  },
  {
   "cell_type": "code",
   "execution_count": null,
   "metadata": {},
   "outputs": [],
   "source": [
    "df.dtypes"
   ]
  },
  {
   "cell_type": "markdown",
   "metadata": {},
   "source": [
    "### no choice"
   ]
  },
  {
   "cell_type": "code",
   "execution_count": null,
   "metadata": {},
   "outputs": [],
   "source": [
    "import dash\n",
    "from dash import dcc\n",
    "from dash import html\n",
    "# import pandas as pd\n",
    "import plotly.graph_objs as go\n",
    "\n",
    "# Load the dataframe\n",
    "# df = pd.read_csv('your_dataframe.csv')\n",
    "\n",
    "# Define the app\n",
    "app = dash.Dash(__name__)\n",
    "\n",
    "# Define the layout\n",
    "app.layout = html.Div([\n",
    "    html.H1(\"2D Plot Dashboard\"),\n",
    "    html.Div([\n",
    "        dcc.Dropdown(\n",
    "            id='x-axis',\n",
    "            options=[{'label': col, 'value': col} for col in df.columns],\n",
    "            value=df.columns[0]\n",
    "        )\n",
    "    ],\n",
    "    style={'width': '48%', 'display': 'inline-block'}),\n",
    "    html.Div([\n",
    "        dcc.Dropdown(\n",
    "            id='y-axis',\n",
    "            options=[{'label': col, 'value': col} for col in df.columns],\n",
    "            value=df.columns[1]\n",
    "        )\n",
    "    ],\n",
    "    style={'width': '48%', 'float': 'right', 'display': 'inline-block'}),\n",
    "    dcc.Graph(id='scatter-plot')\n",
    "])\n",
    "\n",
    "# Define the callbacks\n",
    "@app.callback(\n",
    "    dash.dependencies.Output('scatter-plot', 'figure'),\n",
    "    [dash.dependencies.Input('x-axis', 'value'),\n",
    "     dash.dependencies.Input('y-axis', 'value')])\n",
    "def update_scatter_plot(xaxis_column_name, yaxis_column_name):\n",
    "    return {'data': [go.Scatter(\n",
    "                        x=df[xaxis_column_name],\n",
    "                        y=df[yaxis_column_name],\n",
    "                        mode='lines'\n",
    "                    )],\n",
    "            'layout': go.Layout(\n",
    "                xaxis={'title': xaxis_column_name},\n",
    "                yaxis={'title': yaxis_column_name},\n",
    "                hovermode='closest'\n",
    "            )}\n",
    "\n",
    "# Run the app\n",
    "if __name__ == '__main__':\n",
    "    app.run_server(port=8051)\n"
   ]
  },
  {
   "cell_type": "markdown",
   "metadata": {},
   "source": [
    "### One choice"
   ]
  },
  {
   "cell_type": "code",
   "execution_count": null,
   "metadata": {},
   "outputs": [],
   "source": [
    "import dash\n",
    "import dash_core_components as dcc\n",
    "import dash_html_components as html\n",
    "import pandas as pd\n",
    "import plotly.graph_objs as go\n",
    "\n",
    "# Load data\n",
    "# df = pd.read_csv('data.csv')\n",
    "\n",
    "# Define app\n",
    "app = dash.Dash(__name__)\n",
    "\n",
    "# Define layout\n",
    "app.layout = html.Div([\n",
    "    html.H1(\"Spot Prices in Europe\"),\n",
    "    html.Label('X-axis'),\n",
    "    dcc.Dropdown(\n",
    "        id='x-axis',\n",
    "        options=[{'label': col, 'value': col} for col in df.columns],\n",
    "        value=df.columns[0]\n",
    "    ),\n",
    "    html.Label('Y-axis'),\n",
    "    dcc.Dropdown(\n",
    "        id='y-axis',\n",
    "        options=[{'label': col, 'value': col} for col in df.columns],\n",
    "        value=df.columns[1]\n",
    "    ),\n",
    "    html.Label('Country'),\n",
    "    dcc.Dropdown(\n",
    "        id='category',\n",
    "        options=[{'label': cat, 'value': cat} for cat in df['geo_name'].unique()],\n",
    "        value=df['geo_name'].unique()[0]\n",
    "    ),\n",
    "    dcc.Graph(id='scatter-plot')\n",
    "])\n",
    "\n",
    "# Define callback\n",
    "@app.callback(\n",
    "    dash.dependencies.Output('scatter-plot', 'figure'),\n",
    "    [dash.dependencies.Input('x-axis', 'value'),\n",
    "     dash.dependencies.Input('y-axis', 'value'),\n",
    "     dash.dependencies.Input('category', 'value')])\n",
    "def update_plot(x_col, y_col, category):\n",
    "    filtered_df = df[df['geo_name'] == category]  # Filter the DataFrame by category\n",
    "    trace = go.Scatter(\n",
    "        x=filtered_df[x_col],\n",
    "        y=filtered_df[y_col],\n",
    "        mode='lines'\n",
    "    )\n",
    "    layout = go.Layout(\n",
    "        xaxis={'title': x_col},\n",
    "        yaxis={'title': y_col},\n",
    "        margin={'l': 40, 'b': 40, 't': 10, 'r': 10},\n",
    "        hovermode='closest'\n",
    "    )\n",
    "    return {'data': [trace], 'layout': layout}\n",
    "\n",
    "# Run app\n",
    "if __name__ == '__main__':\n",
    "    app.run_server(port = 8051)"
   ]
  },
  {
   "cell_type": "markdown",
   "metadata": {},
   "source": [
    "### multiple choice with steps"
   ]
  },
  {
   "cell_type": "code",
   "execution_count": 6,
   "metadata": {},
   "outputs": [
    {
     "data": {
      "text/html": [
       "<div>\n",
       "<style scoped>\n",
       "    .dataframe tbody tr th:only-of-type {\n",
       "        vertical-align: middle;\n",
       "    }\n",
       "\n",
       "    .dataframe tbody tr th {\n",
       "        vertical-align: top;\n",
       "    }\n",
       "\n",
       "    .dataframe thead th {\n",
       "        text-align: right;\n",
       "    }\n",
       "</style>\n",
       "<table border=\"1\" class=\"dataframe\">\n",
       "  <thead>\n",
       "    <tr style=\"text-align: right;\">\n",
       "      <th></th>\n",
       "      <th>value</th>\n",
       "      <th>datetime</th>\n",
       "      <th>geo_name</th>\n",
       "    </tr>\n",
       "  </thead>\n",
       "  <tbody>\n",
       "    <tr>\n",
       "      <th>0</th>\n",
       "      <td>82.19</td>\n",
       "      <td>2023-03-31 22:00:00+00:00</td>\n",
       "      <td>Portugal</td>\n",
       "    </tr>\n",
       "    <tr>\n",
       "      <th>1</th>\n",
       "      <td>82.19</td>\n",
       "      <td>2023-03-31 22:00:00+00:00</td>\n",
       "      <td>Francia</td>\n",
       "    </tr>\n",
       "    <tr>\n",
       "      <th>2</th>\n",
       "      <td>82.19</td>\n",
       "      <td>2023-03-31 22:00:00+00:00</td>\n",
       "      <td>España</td>\n",
       "    </tr>\n",
       "    <tr>\n",
       "      <th>3</th>\n",
       "      <td>97.50</td>\n",
       "      <td>2023-03-31 22:00:00+00:00</td>\n",
       "      <td>Reino Unido</td>\n",
       "    </tr>\n",
       "    <tr>\n",
       "      <th>4</th>\n",
       "      <td>130.48</td>\n",
       "      <td>2023-03-31 22:00:00+00:00</td>\n",
       "      <td>Italia</td>\n",
       "    </tr>\n",
       "  </tbody>\n",
       "</table>\n",
       "</div>"
      ],
      "text/plain": [
       "    value                  datetime     geo_name\n",
       "0   82.19 2023-03-31 22:00:00+00:00     Portugal\n",
       "1   82.19 2023-03-31 22:00:00+00:00      Francia\n",
       "2   82.19 2023-03-31 22:00:00+00:00       España\n",
       "3   97.50 2023-03-31 22:00:00+00:00  Reino Unido\n",
       "4  130.48 2023-03-31 22:00:00+00:00       Italia"
      ]
     },
     "execution_count": 6,
     "metadata": {},
     "output_type": "execute_result"
    }
   ],
   "source": [
    "df.drop(columns=['datetime_utc', 'tz_time', 'geo_id'], inplace=True)\n",
    "df.head()"
   ]
  },
  {
   "cell_type": "code",
   "execution_count": 7,
   "metadata": {},
   "outputs": [],
   "source": [
    "df = df.astype({'geo_name':'category'})\n",
    "df = df[['datetime','geo_name','value']]"
   ]
  },
  {
   "cell_type": "code",
   "execution_count": 8,
   "metadata": {},
   "outputs": [],
   "source": [
    "import plotly\n",
    "import plotly.express as px"
   ]
  },
  {
   "cell_type": "code",
   "execution_count": 9,
   "metadata": {},
   "outputs": [
    {
     "name": "stdout",
     "output_type": "stream",
     "text": [
      "Dash is running on http://127.0.0.1:8050/\n",
      "\n",
      " * Serving Flask app '__main__'\n",
      " * Debug mode: off\n"
     ]
    },
    {
     "name": "stderr",
     "output_type": "stream",
     "text": [
      "WARNING: This is a development server. Do not use it in a production deployment. Use a production WSGI server instead.\n",
      " * Running on http://127.0.0.1:8050\n",
      "Press CTRL+C to quit\n",
      "127.0.0.1 - - [21/Apr/2023 23:47:59] \"GET / HTTP/1.1\" 200 -\n",
      "127.0.0.1 - - [21/Apr/2023 23:47:59] \"GET /_dash-dependencies HTTP/1.1\" 200 -\n",
      "127.0.0.1 - - [21/Apr/2023 23:47:59] \"GET /_dash-layout HTTP/1.1\" 200 -\n",
      "127.0.0.1 - - [21/Apr/2023 23:47:59] \"GET /_dash-component-suites/dash/dcc/async-dropdown.js HTTP/1.1\" 304 -\n",
      "127.0.0.1 - - [21/Apr/2023 23:47:59] \"GET /_dash-component-suites/dash/dcc/async-graph.js HTTP/1.1\" 304 -\n",
      "127.0.0.1 - - [21/Apr/2023 23:48:00] \"GET /_dash-component-suites/dash/dcc/async-plotlyjs.js HTTP/1.1\" 304 -\n",
      "127.0.0.1 - - [21/Apr/2023 23:48:00] \"POST /_dash-update-component HTTP/1.1\" 200 -\n"
     ]
    }
   ],
   "source": [
    "import dash\n",
    "from dash import dcc, html\n",
    "import pandas as pd\n",
    "import plotly.graph_objs as go\n",
    "\n",
    "# Load data\n",
    "# df = pd.read_csv('data.csv')\n",
    "\n",
    "# Define app\n",
    "app = dash.Dash(__name__)\n",
    "\n",
    "# Define layout\n",
    "app.layout = html.Div([\n",
    "    html.H1(\"Spot prices in Europe\"),\n",
    "    html.H5(\"Pick X-axis data\"),\n",
    "    # html.Label('X-axis'),\n",
    "    dcc.Dropdown(\n",
    "        id='x-axis',\n",
    "        options=[{'label': col, 'value': col} for col in df.columns],\n",
    "        value=df.columns[0]\n",
    "    ),\n",
    "    html.H5(\"Pick Y-axis data\"),\n",
    "    # html.Label('Y-axis'),\n",
    "    dcc.Dropdown(\n",
    "        id='y-axis',\n",
    "        options=[{'label': col, 'value': col} for col in df.columns],\n",
    "        value=df.columns[2]\n",
    "    ),\n",
    "    html.Label('Categories'),\n",
    "    dcc.Dropdown(\n",
    "        id='categories',\n",
    "        options=[{'label': cat, 'value': cat} for cat in df['geo_name'].unique()],\n",
    "        value=df['geo_name'].unique(),\n",
    "        multi=True\n",
    "    ),\n",
    "    dcc.Graph(id='scatter-plot')\n",
    "])\n",
    "\n",
    "# Define callback\n",
    "@app.callback(\n",
    "    dash.dependencies.Output('scatter-plot', 'figure'),\n",
    "    [dash.dependencies.Input('x-axis', 'value'),\n",
    "     dash.dependencies.Input('y-axis', 'value'),\n",
    "     dash.dependencies.Input('categories', 'value')])\n",
    "def update_plot(x_col, y_col, categories):\n",
    "    traces = []\n",
    "    for cat in categories:\n",
    "        filtered_df = df[df['geo_name'] == cat]  # Filter the DataFrame by category\n",
    "        trace = go.Scatter(\n",
    "            x=filtered_df[x_col],\n",
    "            y=filtered_df[y_col],\n",
    "            mode='lines',\n",
    "            line=dict(shape='hv', width=2),  # Set the line shape to horizontal-vertical step\n",
    "            name=cat  # Set the name of the trace to the category name\n",
    "        )\n",
    "        traces.append(trace)\n",
    "    layout = go.Layout(\n",
    "        xaxis={'title': x_col},\n",
    "        yaxis={'title': y_col},\n",
    "        margin={'l': 40, 'b': 40, 't': 10, 'r': 10},\n",
    "        hovermode='closest'\n",
    "    )\n",
    "    return {'data': traces, 'layout': layout}\n",
    "\n",
    "# Run app\n",
    "if __name__ == '__main__':\n",
    "    app.run()"
   ]
  },
  {
   "cell_type": "markdown",
   "metadata": {},
   "source": [
    "### Dashboard and API call"
   ]
  },
  {
   "cell_type": "markdown",
   "metadata": {},
   "source": [
    "<span style=\"color:red\">IT IS STILL UNDER CONSTRUCTION. I JUST COPIED AND PASTED FROM chatGPT.</span>"
   ]
  },
  {
   "cell_type": "code",
   "execution_count": 10,
   "metadata": {},
   "outputs": [],
   "source": [
    "import datetime"
   ]
  },
  {
   "cell_type": "code",
   "execution_count": 12,
   "metadata": {},
   "outputs": [],
   "source": [
    "n = datetime.datetime.date(datetime.datetime.now())"
   ]
  },
  {
   "cell_type": "code",
   "execution_count": 13,
   "metadata": {},
   "outputs": [
    {
     "data": {
      "text/plain": [
       "'2023-04-21'"
      ]
     },
     "execution_count": 13,
     "metadata": {},
     "output_type": "execute_result"
    }
   ],
   "source": [
    "n.isoformat()"
   ]
  },
  {
   "cell_type": "code",
   "execution_count": 15,
   "metadata": {},
   "outputs": [
    {
     "data": {
      "text/plain": [
       "'2023-04-01T00:00:00'"
      ]
     },
     "execution_count": 15,
     "metadata": {},
     "output_type": "execute_result"
    }
   ],
   "source": [
    "datetime.datetime.fromisoformat('2023-04-01T00:00').isoformat()"
   ]
  },
  {
   "cell_type": "code",
   "execution_count": null,
   "metadata": {},
   "outputs": [],
   "source": [
    "import requests\n",
    "import datetime\n",
    "import pandas as pd\n",
    "import dash\n",
    "from dash import dcc, html\n",
    "import plotly.graph_objs as go\n",
    "\n",
    "app = dash.Dash(__name__)\n",
    "\n",
    "# Define the layout of the app\n",
    "app.layout = html.Div(children=[\n",
    "    html.H1(children='API Data Dashboard'),\n",
    "    html.Div(children='''\n",
    "        Select start and end timestamps:\n",
    "    '''),\n",
    "    dcc.Input(id='start-timestamp', type='text', value='2023-04-01T00:00:00'),\n",
    "    dcc.Input(id='end-timestamp', type='text', value='2022-04-19T00:00:00'),\n",
    "    html.Div(children='''\n",
    "        Enter API token:\n",
    "    '''),\n",
    "    dcc.Input(id='api-token', type='text', value=''),\n",
    "    html.Button('Submit', id='submit-button'),\n",
    "    dcc.Graph(id='scatter-plot')\n",
    "])\n",
    "\n",
    "@app.callback(\n",
    "    dash.dependencies.Output('scatter-plot', 'figure'),\n",
    "    [dash.dependencies.Input('submit-button', 'n_clicks')],\n",
    "    [dash.dependencies.State('start-timestamp', 'value'),\n",
    "     dash.dependencies.State('end-timestamp', 'value'),\n",
    "     dash.dependencies.State('api-token', 'value')])\n",
    "def update_plot(n_clicks, start_timestamp, end_timestamp, api_token):\n",
    "    # Parse the start and end timestamps using the datetime module\n",
    "    start_dt = datetime.datetime.fromisoformat(start_timestamp)\n",
    "    end_dt = datetime.datetime.fromisoformat(end_timestamp)\n",
    "    \n",
    "    # Make the API request using the requests library\n",
    "    headers = dict()\n",
    "    headers['Accept'] = 'application/json; application/vnd.esios-api-v1+json'\n",
    "    headers['Content-Type'] = 'application/json'\n",
    "    headers['Host'] = 'api.esios.ree.es'\n",
    "    headers['x-api-key'] = api_token\n",
    "    headers['Cookie'] = ''\n",
    "\n",
    "    params = {'start_date': start_dt.isoformat(), 'end_date': end_dt.isoformat()}\n",
    "    # https://api.esios.ree.es/indicators/1373?start_date=' + '2023-04-10T00:00:00' + 'Z&end_date=' + '2023-04-10T23:00:00' + 'Z'\n",
    "    response = requests.get('https://api.esios.ree.es/indicators/600', headers=headers, params=params)\n",
    "    if response.status_code != 200:\n",
    "        raise ValueError(f'Request failed with status code {response.status_code}: {response.text}')\n",
    "    data = response.json()['indicator']['values']\n",
    "    \n",
    "    # Convert the API response to a Pandas DataFrame\n",
    "    df = pd.DataFrame(data)\n",
    "    df.datetime = pd.to_datetime(df.datetime, utc = True)\n",
    "    # Create the plot\n",
    "    traces = []\n",
    "    for category in df['geo_name'].unique():\n",
    "        filtered_df = df.loc[df['geo_name'] == category]\n",
    "        trace = go.Scatter(\n",
    "            x=pd.to_datetime(filtered_df['datetime'], utc = True),\n",
    "            y=filtered_df['value'],\n",
    "            mode='lines',\n",
    "            name=category\n",
    "        )\n",
    "        traces.append(trace)\n",
    "    layout = go.Layout(\n",
    "        xaxis={'title': 'Timestamp'},\n",
    "        yaxis={'title': 'Value'},\n",
    "        margin={'l': 40, 'b': 40, 't': 10, 'r': 10},\n",
    "        hovermode='closest'\n",
    "    )\n",
    "    return {'data': traces, 'layout': layout}\n",
    "\n",
    "if __name__ == '__main__':\n",
    "    app.run()"
   ]
  },
  {
   "cell_type": "code",
   "execution_count": null,
   "metadata": {},
   "outputs": [],
   "source": [
    "dash.__version__"
   ]
  },
  {
   "cell_type": "code",
   "execution_count": null,
   "metadata": {},
   "outputs": [],
   "source": [
    "import plotly"
   ]
  },
  {
   "cell_type": "code",
   "execution_count": null,
   "metadata": {},
   "outputs": [],
   "source": [
    "plotly.__version__"
   ]
  },
  {
   "cell_type": "code",
   "execution_count": null,
   "metadata": {},
   "outputs": [],
   "source": [
    "import dash"
   ]
  },
  {
   "cell_type": "markdown",
   "metadata": {},
   "source": [
    "## Respuesta activa de la demanda"
   ]
  },
  {
   "cell_type": "markdown",
   "metadata": {},
   "source": [
    "### Indicadores relevantes"
   ]
  },
  {
   "cell_type": "markdown",
   "metadata": {},
   "source": [
    "nombre|ID\n",
    ":-------:|:-----:\n",
    "Potencia activada en el servicio de respuesta activa de la demanda|1929\n",
    "Precio marginal en el servicio de respuesta activa de la demanda|1930\n",
    "Energía asignada en el servicio de respuesta activa de la demanda|1931\n",
    "Derechos de cobro de la activación del servicio de respuesta activa de la demanda|1932\n",
    "Precio medio ponderado de activación del servicio de respuesta activa de la demanda|10412"
   ]
  },
  {
   "cell_type": "markdown",
   "metadata": {},
   "source": [
    "### Potencia activada"
   ]
  },
  {
   "cell_type": "code",
   "execution_count": null,
   "metadata": {},
   "outputs": [],
   "source": [
    "indicator = '1929'"
   ]
  },
  {
   "cell_type": "code",
   "execution_count": null,
   "metadata": {
    "id": "avLs4Y6DxCmC"
   },
   "outputs": [],
   "source": [
    "l = requests.get('https://api.esios.ree.es/indicators/' + indicator + '?start_date=' + '2022-10-01T00:00:00' + 'Z&end_date=' + '2023-04-17T23:00:00' + 'Z', headers=headers)\n",
    "l.status_code"
   ]
  },
  {
   "cell_type": "code",
   "execution_count": null,
   "metadata": {
    "colab": {
     "base_uri": "https://localhost:8080/",
     "height": 49
    },
    "id": "nLaPr8ORDX18",
    "outputId": "173d7647-926a-4c08-9b6d-e35b3ef0c798"
   },
   "outputs": [],
   "source": [
    "l.json()"
   ]
  },
  {
   "cell_type": "markdown",
   "metadata": {},
   "source": [
    "### Precio marginal"
   ]
  },
  {
   "cell_type": "code",
   "execution_count": null,
   "metadata": {},
   "outputs": [],
   "source": [
    "indicator = '1930'"
   ]
  },
  {
   "cell_type": "code",
   "execution_count": null,
   "metadata": {
    "id": "avLs4Y6DxCmC"
   },
   "outputs": [],
   "source": [
    "l = requests.get('https://api.esios.ree.es/indicators/' + indicator + '?start_date=' + '2022-10-01T00:00:00' + 'Z&end_date=' + '2023-04-17T23:00:00' + 'Z', headers=headers)\n",
    "l.status_code"
   ]
  },
  {
   "cell_type": "code",
   "execution_count": null,
   "metadata": {
    "colab": {
     "base_uri": "https://localhost:8080/",
     "height": 49
    },
    "id": "nLaPr8ORDX18",
    "outputId": "173d7647-926a-4c08-9b6d-e35b3ef0c798"
   },
   "outputs": [],
   "source": [
    "l.json()"
   ]
  },
  {
   "cell_type": "markdown",
   "metadata": {},
   "source": [
    "### Energía asignada"
   ]
  },
  {
   "cell_type": "code",
   "execution_count": null,
   "metadata": {},
   "outputs": [],
   "source": [
    "indicator = '1931'"
   ]
  },
  {
   "cell_type": "code",
   "execution_count": null,
   "metadata": {
    "id": "avLs4Y6DxCmC"
   },
   "outputs": [],
   "source": [
    "l = requests.get('https://api.esios.ree.es/indicators/' + indicator + '?start_date=' + '2022-10-01T00:00:00' + 'Z&end_date=' + '2023-04-17T23:00:00' + 'Z', headers=headers)\n",
    "l.status_code"
   ]
  },
  {
   "cell_type": "code",
   "execution_count": null,
   "metadata": {
    "colab": {
     "base_uri": "https://localhost:8080/",
     "height": 49
    },
    "id": "nLaPr8ORDX18",
    "outputId": "173d7647-926a-4c08-9b6d-e35b3ef0c798"
   },
   "outputs": [],
   "source": [
    "l.json()"
   ]
  },
  {
   "cell_type": "markdown",
   "metadata": {},
   "source": [
    "### Derechos de cobro de la activación del servicio de respuesta activa de la demanda"
   ]
  },
  {
   "cell_type": "code",
   "execution_count": null,
   "metadata": {},
   "outputs": [],
   "source": [
    "indicator = '1932'"
   ]
  },
  {
   "cell_type": "code",
   "execution_count": null,
   "metadata": {
    "id": "avLs4Y6DxCmC"
   },
   "outputs": [],
   "source": [
    "l = requests.get('https://api.esios.ree.es/indicators/' + indicator + '?start_date=' + '2022-10-01T00:00:00' + 'Z&end_date=' + '2023-04-17T23:00:00' + 'Z', headers=headers)\n",
    "l.status_code"
   ]
  },
  {
   "cell_type": "code",
   "execution_count": null,
   "metadata": {
    "colab": {
     "base_uri": "https://localhost:8080/",
     "height": 49
    },
    "id": "nLaPr8ORDX18",
    "outputId": "173d7647-926a-4c08-9b6d-e35b3ef0c798"
   },
   "outputs": [],
   "source": [
    "l.json()"
   ]
  },
  {
   "cell_type": "markdown",
   "metadata": {},
   "source": [
    "### Precio medio ponderado de activación del servicio de respuesta activa de la demanda"
   ]
  },
  {
   "cell_type": "code",
   "execution_count": null,
   "metadata": {},
   "outputs": [],
   "source": [
    "indicator = '10412'"
   ]
  },
  {
   "cell_type": "code",
   "execution_count": null,
   "metadata": {
    "id": "avLs4Y6DxCmC"
   },
   "outputs": [],
   "source": [
    "l = requests.get('https://api.esios.ree.es/indicators/' + indicator + '?start_date=' + '2022-10-01T00:00:00' + 'Z&end_date=' + '2023-04-17T23:00:00' + 'Z', headers=headers)\n",
    "l.status_code"
   ]
  },
  {
   "cell_type": "code",
   "execution_count": null,
   "metadata": {
    "colab": {
     "base_uri": "https://localhost:8080/",
     "height": 49
    },
    "id": "nLaPr8ORDX18",
    "outputId": "173d7647-926a-4c08-9b6d-e35b3ef0c798"
   },
   "outputs": [],
   "source": [
    "l.json()"
   ]
  },
  {
   "cell_type": "markdown",
   "metadata": {},
   "source": [
    "## Reserva Terciaria"
   ]
  },
  {
   "cell_type": "code",
   "execution_count": null,
   "metadata": {},
   "outputs": [],
   "source": []
  }
 ],
 "metadata": {
  "colab": {
   "provenance": []
  },
  "kernelspec": {
   "display_name": "Python 3 (ipykernel)",
   "language": "python",
   "name": "python3"
  },
  "language_info": {
   "codemirror_mode": {
    "name": "ipython",
    "version": 3
   },
   "file_extension": ".py",
   "mimetype": "text/x-python",
   "name": "python",
   "nbconvert_exporter": "python",
   "pygments_lexer": "ipython3",
   "version": "3.8.12"
  }
 },
 "nbformat": 4,
 "nbformat_minor": 4
}
