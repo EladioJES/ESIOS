{
 "cells": [
  {
   "cell_type": "code",
   "execution_count": 1,
   "id": "4e440d71",
   "metadata": {},
   "outputs": [],
   "source": [
    "%config Completer.use_jedi = False"
   ]
  },
  {
   "cell_type": "code",
   "execution_count": 2,
   "id": "06d6fe97",
   "metadata": {},
   "outputs": [
    {
     "name": "stderr",
     "output_type": "stream",
     "text": [
      "<frozen importlib._bootstrap>:219: RuntimeWarning: scipy._lib.messagestream.MessageStream size changed, may indicate binary incompatibility. Expected 56 from C header, got 64 from PyObject\n"
     ]
    }
   ],
   "source": [
    "import pandas as pd\n",
    "import matplotlib.pyplot as plt\n",
    "import seaborn as sns"
   ]
  },
  {
   "cell_type": "code",
   "execution_count": 3,
   "id": "6f6ccc6a",
   "metadata": {},
   "outputs": [],
   "source": [
    "import requests"
   ]
  },
  {
   "cell_type": "code",
   "execution_count": 4,
   "id": "06dccb1c",
   "metadata": {},
   "outputs": [],
   "source": [
    "token = 'b69f49f19668733416d36d75533072cba8ebf0562564dc2efc32ca04a9dc756e'"
   ]
  },
  {
   "cell_type": "code",
   "execution_count": 6,
   "id": "7fb7e5e2",
   "metadata": {},
   "outputs": [],
   "source": [
    "headers = dict()\n",
    "headers['Accept'] = 'application/json; application/vnd.esios-api-v1+json'\n",
    "headers['Content-Type'] = 'application/json'\n",
    "headers['Host'] = 'api.esios.ree.es'\n",
    "headers['Authorization'] = 'Token token=\\\"' + token + '\\\"'\n",
    "headers['Cookie'] = ''"
   ]
  },
  {
   "cell_type": "code",
   "execution_count": 22,
   "id": "882efdad",
   "metadata": {},
   "outputs": [
    {
     "data": {
      "text/plain": [
       "200"
      ]
     },
     "execution_count": 22,
     "metadata": {},
     "output_type": "execute_result"
    }
   ],
   "source": [
    "r = requests.get('https://api.esios.ree.es/indicators/600?start_date=2022-11-18T00:00:00Z&end_date=2022-11-24T23:00:00Z',\n",
    "                 headers=headers)\n",
    "r.status_code"
   ]
  },
  {
   "cell_type": "code",
   "execution_count": 23,
   "id": "3b76516a",
   "metadata": {},
   "outputs": [
    {
     "data": {
      "text/plain": [
       "dict_keys(['indicator'])"
      ]
     },
     "execution_count": 23,
     "metadata": {},
     "output_type": "execute_result"
    }
   ],
   "source": [
    "r.json().keys()"
   ]
  },
  {
   "cell_type": "code",
   "execution_count": 24,
   "id": "0a3ff822",
   "metadata": {},
   "outputs": [
    {
     "data": {
      "text/plain": [
       "dict_keys(['name', 'short_name', 'id', 'composited', 'step_type', 'disaggregated', 'magnitud', 'tiempo', 'geos', 'values_updated_at', 'values'])"
      ]
     },
     "execution_count": 24,
     "metadata": {},
     "output_type": "execute_result"
    }
   ],
   "source": [
    "r.json()['indicator'].keys()"
   ]
  },
  {
   "cell_type": "code",
   "execution_count": 25,
   "id": "1bb0d40d",
   "metadata": {},
   "outputs": [],
   "source": [
    "df = pd.DataFrame(r.json()['indicator']['values'])"
   ]
  },
  {
   "cell_type": "code",
   "execution_count": 26,
   "id": "73c8f2bf",
   "metadata": {},
   "outputs": [],
   "source": [
    "df = df.query('geo_name==\"España\"')"
   ]
  },
  {
   "cell_type": "code",
   "execution_count": 28,
   "id": "e1607656",
   "metadata": {},
   "outputs": [],
   "source": [
    "df.datetime = pd.to_datetime(df.datetime)"
   ]
  },
  {
   "cell_type": "code",
   "execution_count": 29,
   "id": "4482f88e",
   "metadata": {},
   "outputs": [
    {
     "data": {
      "text/plain": [
       "value                                        float64\n",
       "datetime        datetime64[ns, pytz.FixedOffset(60)]\n",
       "datetime_utc                                  object\n",
       "tz_time                                       object\n",
       "geo_id                                         int64\n",
       "geo_name                                      object\n",
       "dtype: object"
      ]
     },
     "execution_count": 29,
     "metadata": {},
     "output_type": "execute_result"
    }
   ],
   "source": [
    "df.dtypes"
   ]
  },
  {
   "cell_type": "code",
   "execution_count": 30,
   "id": "613c2748",
   "metadata": {},
   "outputs": [],
   "source": [
    "df.set_index('datetime', inplace=True)"
   ]
  },
  {
   "cell_type": "code",
   "execution_count": 31,
   "id": "4523871e",
   "metadata": {},
   "outputs": [
    {
     "data": {
      "text/plain": [
       "<AxesSubplot:xlabel='datetime'>"
      ]
     },
     "execution_count": 31,
     "metadata": {},
     "output_type": "execute_result"
    },
    {
     "data": {
      "image/png": "[encoded data removed]",
      "text/plain": [
       "<Figure size 432x288 with 1 Axes>"
      ]
     },
     "metadata": {
      "needs_background": "light"
     },
     "output_type": "display_data"
    }
   ],
   "source": [
    "df.plot(y='value')"
   ]
  },
  {
   "cell_type": "code",
   "execution_count": 32,
   "id": "364f00a3",
   "metadata": {},
   "outputs": [],
   "source": [
    "df.to_csv('pices.csv')"
   ]
  }
 ],
 "metadata": {
  "kernelspec": {
   "display_name": "Python 3 (ipykernel)",
   "language": "python",
   "name": "python3"
  },
  "language_info": {
   "codemirror_mode": {
    "name": "ipython",
    "version": 3
   },
   "file_extension": ".py",
   "mimetype": "text/x-python",
   "name": "python",
   "nbconvert_exporter": "python",
   "pygments_lexer": "ipython3",
   "version": "3.8.12"
  }
 },
 "nbformat": 4,
 "nbformat_minor": 5
}
