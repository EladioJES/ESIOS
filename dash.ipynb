{
 "cells": [
  {
   "cell_type": "code",
   "execution_count": 5,
   "id": "04466ccb-4f66-481d-95d2-70f582a5e358",
   "metadata": {},
   "outputs": [],
   "source": [
    "import pandas as pd\n",
    "from dash import Dash, dcc, html\n",
    "import requests"
   ]
  },
  {
   "cell_type": "code",
   "execution_count": 6,
   "id": "7290bb53-8c45-4ea7-9106-ce7feaa74ea8",
   "metadata": {},
   "outputs": [],
   "source": [
    "def esios_api(indicator:int, token:str, start_date:str, end_date:str, headers:dict):\n",
    "    r = requests.get('https://api.esios.ree.es/indicators/' + str(indicator) + '?start_date=' + start_date + 'Z&end_date=' + end_date + 'Z', headers=headers)\n",
    "    print(r.status_code)\n",
    "    \n",
    "    return r.json()"
   ]
  },
  {
   "cell_type": "code",
   "execution_count": 8,
   "id": "501f54bb-af21-4bf8-8ff3-219c6ebdae6f",
   "metadata": {},
   "outputs": [],
   "source": [
    "token = 'b69f49f19668733416d36d75533072cba8ebf0562564dc2efc32ca04a9dc756e'\n",
    "headers = dict()\n",
    "headers['Accept'] = 'application/json; application/vnd.esios-api-v1+json'\n",
    "headers['Content-Type'] = 'application/json'\n",
    "headers['Host'] = 'api.esios.ree.es'\n",
    "headers['x-api-key'] = token\n",
    "headers['Cookie'] = ''"
   ]
  },
  {
   "cell_type": "code",
   "execution_count": 9,
   "id": "f68b2be0-8ed3-4c28-b020-f327c2f1e974",
   "metadata": {},
   "outputs": [
    {
     "name": "stdout",
     "output_type": "stream",
     "text": [
      "200\n"
     ]
    },
    {
     "data": {
      "text/html": [
       "<div>\n",
       "<style scoped>\n",
       "    .dataframe tbody tr th:only-of-type {\n",
       "        vertical-align: middle;\n",
       "    }\n",
       "\n",
       "    .dataframe tbody tr th {\n",
       "        vertical-align: top;\n",
       "    }\n",
       "\n",
       "    .dataframe thead th {\n",
       "        text-align: right;\n",
       "    }\n",
       "</style>\n",
       "<table border=\"1\" class=\"dataframe\">\n",
       "  <thead>\n",
       "    <tr style=\"text-align: right;\">\n",
       "      <th></th>\n",
       "      <th>value</th>\n",
       "      <th>datetime</th>\n",
       "      <th>datetime_utc</th>\n",
       "      <th>tz_time</th>\n",
       "      <th>geo_id</th>\n",
       "      <th>geo_name</th>\n",
       "    </tr>\n",
       "  </thead>\n",
       "  <tbody>\n",
       "    <tr>\n",
       "      <th>0</th>\n",
       "      <td>50.00</td>\n",
       "      <td>2023-04-01 00:00:00+00:00</td>\n",
       "      <td>2023-04-01T00:00:00Z</td>\n",
       "      <td>2023-04-01T00:00:00.000Z</td>\n",
       "      <td>1</td>\n",
       "      <td>Portugal</td>\n",
       "    </tr>\n",
       "    <tr>\n",
       "      <th>1</th>\n",
       "      <td>53.84</td>\n",
       "      <td>2023-04-01 00:00:00+00:00</td>\n",
       "      <td>2023-04-01T00:00:00Z</td>\n",
       "      <td>2023-04-01T00:00:00.000Z</td>\n",
       "      <td>2</td>\n",
       "      <td>Francia</td>\n",
       "    </tr>\n",
       "    <tr>\n",
       "      <th>2</th>\n",
       "      <td>50.00</td>\n",
       "      <td>2023-04-01 00:00:00+00:00</td>\n",
       "      <td>2023-04-01T00:00:00Z</td>\n",
       "      <td>2023-04-01T00:00:00.000Z</td>\n",
       "      <td>3</td>\n",
       "      <td>España</td>\n",
       "    </tr>\n",
       "    <tr>\n",
       "      <th>3</th>\n",
       "      <td>93.19</td>\n",
       "      <td>2023-04-01 00:00:00+00:00</td>\n",
       "      <td>2023-04-01T00:00:00Z</td>\n",
       "      <td>2023-04-01T00:00:00.000Z</td>\n",
       "      <td>8824</td>\n",
       "      <td>Reino Unido</td>\n",
       "    </tr>\n",
       "    <tr>\n",
       "      <th>4</th>\n",
       "      <td>123.19</td>\n",
       "      <td>2023-04-01 00:00:00+00:00</td>\n",
       "      <td>2023-04-01T00:00:00Z</td>\n",
       "      <td>2023-04-01T00:00:00.000Z</td>\n",
       "      <td>8825</td>\n",
       "      <td>Italia</td>\n",
       "    </tr>\n",
       "  </tbody>\n",
       "</table>\n",
       "</div>"
      ],
      "text/plain": [
       "    value                  datetime          datetime_utc  \\\n",
       "0   50.00 2023-04-01 00:00:00+00:00  2023-04-01T00:00:00Z   \n",
       "1   53.84 2023-04-01 00:00:00+00:00  2023-04-01T00:00:00Z   \n",
       "2   50.00 2023-04-01 00:00:00+00:00  2023-04-01T00:00:00Z   \n",
       "3   93.19 2023-04-01 00:00:00+00:00  2023-04-01T00:00:00Z   \n",
       "4  123.19 2023-04-01 00:00:00+00:00  2023-04-01T00:00:00Z   \n",
       "\n",
       "                    tz_time  geo_id     geo_name  \n",
       "0  2023-04-01T00:00:00.000Z       1     Portugal  \n",
       "1  2023-04-01T00:00:00.000Z       2      Francia  \n",
       "2  2023-04-01T00:00:00.000Z       3       España  \n",
       "3  2023-04-01T00:00:00.000Z    8824  Reino Unido  \n",
       "4  2023-04-01T00:00:00.000Z    8825       Italia  "
      ]
     },
     "execution_count": 9,
     "metadata": {},
     "output_type": "execute_result"
    }
   ],
   "source": [
    "df = pd.DataFrame(esios_api(600, token, '2023-04-01T00:00', '2023-04-19T00:00', headers=headers)['indicator']['values'])\n",
    "df.datetime = pd.to_datetime(df.datetime, utc = True)\n",
    "df.head()"
   ]
  },
  {
   "cell_type": "code",
   "execution_count": 10,
   "id": "31577920-bddd-42aa-a9d4-7d17cd85d1f7",
   "metadata": {},
   "outputs": [
    {
     "data": {
      "text/html": [
       "<div>\n",
       "<style scoped>\n",
       "    .dataframe tbody tr th:only-of-type {\n",
       "        vertical-align: middle;\n",
       "    }\n",
       "\n",
       "    .dataframe tbody tr th {\n",
       "        vertical-align: top;\n",
       "    }\n",
       "\n",
       "    .dataframe thead th {\n",
       "        text-align: right;\n",
       "    }\n",
       "</style>\n",
       "<table border=\"1\" class=\"dataframe\">\n",
       "  <thead>\n",
       "    <tr style=\"text-align: right;\">\n",
       "      <th></th>\n",
       "      <th>value</th>\n",
       "      <th>datetime</th>\n",
       "      <th>geo_name</th>\n",
       "    </tr>\n",
       "  </thead>\n",
       "  <tbody>\n",
       "    <tr>\n",
       "      <th>0</th>\n",
       "      <td>50.00</td>\n",
       "      <td>2023-04-01 00:00:00+00:00</td>\n",
       "      <td>Portugal</td>\n",
       "    </tr>\n",
       "    <tr>\n",
       "      <th>1</th>\n",
       "      <td>53.84</td>\n",
       "      <td>2023-04-01 00:00:00+00:00</td>\n",
       "      <td>Francia</td>\n",
       "    </tr>\n",
       "    <tr>\n",
       "      <th>2</th>\n",
       "      <td>50.00</td>\n",
       "      <td>2023-04-01 00:00:00+00:00</td>\n",
       "      <td>España</td>\n",
       "    </tr>\n",
       "    <tr>\n",
       "      <th>3</th>\n",
       "      <td>93.19</td>\n",
       "      <td>2023-04-01 00:00:00+00:00</td>\n",
       "      <td>Reino Unido</td>\n",
       "    </tr>\n",
       "    <tr>\n",
       "      <th>4</th>\n",
       "      <td>123.19</td>\n",
       "      <td>2023-04-01 00:00:00+00:00</td>\n",
       "      <td>Italia</td>\n",
       "    </tr>\n",
       "  </tbody>\n",
       "</table>\n",
       "</div>"
      ],
      "text/plain": [
       "    value                  datetime     geo_name\n",
       "0   50.00 2023-04-01 00:00:00+00:00     Portugal\n",
       "1   53.84 2023-04-01 00:00:00+00:00      Francia\n",
       "2   50.00 2023-04-01 00:00:00+00:00       España\n",
       "3   93.19 2023-04-01 00:00:00+00:00  Reino Unido\n",
       "4  123.19 2023-04-01 00:00:00+00:00       Italia"
      ]
     },
     "execution_count": 10,
     "metadata": {},
     "output_type": "execute_result"
    }
   ],
   "source": [
    "df.drop(columns=['geo_id', 'tz_time', 'datetime_utc'], inplace=True)\n",
    "df.head()"
   ]
  },
  {
   "cell_type": "code",
   "execution_count": 22,
   "id": "b13041c9-7edc-4b8a-b04b-46e044b6f568",
   "metadata": {},
   "outputs": [
    {
     "name": "stdout",
     "output_type": "stream",
     "text": [
      "Dash is running on http://127.0.0.1:9050/\n",
      "\n",
      " * Serving Flask app '__main__'\n",
      " * Debug mode: on\n"
     ]
    },
    {
     "name": "stderr",
     "output_type": "stream",
     "text": [
      "Traceback (most recent call last):\n",
      "  File \"/home/gelattoo/.local/lib/python3.8/site-packages/ipykernel_launcher.py\", line 17, in <module>\n",
      "    app.launch_new_instance()\n",
      "  File \"/home/gelattoo/.local/lib/python3.8/site-packages/traitlets/config/application.py\", line 1040, in launch_instance\n",
      "    app.initialize(argv)\n",
      "  File \"/home/gelattoo/.local/lib/python3.8/site-packages/traitlets/config/application.py\", line 113, in inner\n",
      "    return method(app, *args, **kwargs)\n",
      "  File \"/home/gelattoo/.local/lib/python3.8/site-packages/ipykernel/kernelapp.py\", line 677, in initialize\n",
      "    self.init_sockets()\n",
      "  File \"/home/gelattoo/.local/lib/python3.8/site-packages/ipykernel/kernelapp.py\", line 316, in init_sockets\n",
      "    self.shell_port = self._bind_socket(self.shell_socket, self.shell_port)\n",
      "  File \"/home/gelattoo/.local/lib/python3.8/site-packages/ipykernel/kernelapp.py\", line 251, in _bind_socket\n",
      "    return self._try_bind_socket(s, port)\n",
      "  File \"/home/gelattoo/.local/lib/python3.8/site-packages/ipykernel/kernelapp.py\", line 227, in _try_bind_socket\n",
      "    s.bind(\"tcp://%s:%i\" % (self.ip, port))\n",
      "  File \"/home/gelattoo/.local/lib/python3.8/site-packages/zmq/sugar/socket.py\", line 300, in bind\n",
      "    super().bind(addr)\n",
      "  File \"zmq/backend/cython/socket.pyx\", line 564, in zmq.backend.cython.socket.Socket.bind\n",
      "  File \"zmq/backend/cython/checkrc.pxd\", line 28, in zmq.backend.cython.checkrc._check_rc\n",
      "zmq.error.ZMQError: Address already in use\n"
     ]
    },
    {
     "ename": "SystemExit",
     "evalue": "1",
     "output_type": "error",
     "traceback": [
      "An exception has occurred, use %tb to see the full traceback.\n",
      "\u001b[0;31mSystemExit\u001b[0m\u001b[0;31m:\u001b[0m 1\n"
     ]
    }
   ],
   "source": [
    "data = (\n",
    "    df\n",
    "    .query(\"geo_name == 'España'\")\n",
    "    # .assign(Date=lambda data: pd.to_datetime(data[\"Date\"], format=\"%Y-%m-%d\"))\n",
    "    .sort_values(by=\"datetime\")\n",
    ")\n",
    "\n",
    "app = Dash(__name__)\n",
    "\n",
    "app.layout = html.Div(\n",
    "    children=[\n",
    "        html.H1(children=\"Avocado Analytics\"),\n",
    "        html.P(\n",
    "            children=(\n",
    "                \"Analyze the behavior of avocado prices and the number\"\n",
    "                \" of avocados sold in the US between 2015 and 2018\"\n",
    "            ),\n",
    "        ),\n",
    "        dcc.Graph(\n",
    "            figure={\n",
    "                \"data\": [\n",
    "                    {\n",
    "                        \"x\": data[\"datetime\"],\n",
    "                        \"y\": data[\"value\"],\n",
    "                        \"type\": \"lines\",\n",
    "                    },\n",
    "                ],\n",
    "                \"layout\": {\"title\": \"Average Price of Avocados\"},\n",
    "            },\n",
    "        ),\n",
    "        dcc.Graph(\n",
    "            figure={\n",
    "                \"data\": [\n",
    "                    {\n",
    "                        \"x\": data[\"datetime\"],\n",
    "                        \"y\": data[\"value\"],\n",
    "                        \"type\": \"lines\",\n",
    "                    },\n",
    "                ],\n",
    "                \"layout\": {\"title\": \"Avocados Sold\"},\n",
    "            },\n",
    "        ),\n",
    "    ]\n",
    ")\n",
    "\n",
    "if __name__ == \"__main__\":\n",
    "    app.run(debug=True, port = 9050)"
   ]
  },
  {
   "cell_type": "code",
   "execution_count": 23,
   "id": "0386fdc5-7a91-402c-9b80-73f9b767642c",
   "metadata": {},
   "outputs": [
    {
     "ename": "SystemExit",
     "evalue": "1",
     "output_type": "error",
     "traceback": [
      "\u001b[0;31m---------------------------------------------------------------------------\u001b[0m",
      "\u001b[0;31mSystemExit\u001b[0m                                Traceback (most recent call last)",
      "Cell \u001b[0;32mIn[22], line 47\u001b[0m\n\u001b[1;32m     10\u001b[0m app\u001b[38;5;241m.\u001b[39mlayout \u001b[38;5;241m=\u001b[39m html\u001b[38;5;241m.\u001b[39mDiv(\n\u001b[1;32m     11\u001b[0m     children\u001b[38;5;241m=\u001b[39m[\n\u001b[1;32m     12\u001b[0m         html\u001b[38;5;241m.\u001b[39mH1(children\u001b[38;5;241m=\u001b[39m\u001b[38;5;124m\"\u001b[39m\u001b[38;5;124mAvocado Analytics\u001b[39m\u001b[38;5;124m\"\u001b[39m),\n\u001b[0;32m   (...)\u001b[0m\n\u001b[1;32m     43\u001b[0m     ]\n\u001b[1;32m     44\u001b[0m )\n\u001b[1;32m     46\u001b[0m \u001b[38;5;28;01mif\u001b[39;00m \u001b[38;5;18m__name__\u001b[39m \u001b[38;5;241m==\u001b[39m \u001b[38;5;124m\"\u001b[39m\u001b[38;5;124m__main__\u001b[39m\u001b[38;5;124m\"\u001b[39m:\n\u001b[0;32m---> 47\u001b[0m     \u001b[43mapp\u001b[49m\u001b[38;5;241;43m.\u001b[39;49m\u001b[43mrun\u001b[49m\u001b[43m(\u001b[49m\u001b[43mdebug\u001b[49m\u001b[38;5;241;43m=\u001b[39;49m\u001b[38;5;28;43;01mTrue\u001b[39;49;00m\u001b[43m,\u001b[49m\u001b[43m \u001b[49m\u001b[43mport\u001b[49m\u001b[43m \u001b[49m\u001b[38;5;241;43m=\u001b[39;49m\u001b[43m \u001b[49m\u001b[38;5;241;43m9050\u001b[39;49m\u001b[43m)\u001b[49m\n",
      "File \u001b[0;32m~/miniconda3/envs/py38/lib/python3.8/site-packages/dash/dash.py:1989\u001b[0m, in \u001b[0;36mDash.run\u001b[0;34m(self, host, port, proxy, debug, dev_tools_ui, dev_tools_props_check, dev_tools_serve_dev_bundles, dev_tools_hot_reload, dev_tools_hot_reload_interval, dev_tools_hot_reload_watch_interval, dev_tools_hot_reload_max_retry, dev_tools_silence_routes_logging, dev_tools_prune_errors, **flask_run_options)\u001b[0m\n\u001b[1;32m   1986\u001b[0m         \u001b[38;5;28;01melif\u001b[39;00m os\u001b[38;5;241m.\u001b[39mpath\u001b[38;5;241m.\u001b[39misfile(path):\n\u001b[1;32m   1987\u001b[0m             extra_files\u001b[38;5;241m.\u001b[39mappend(path)\n\u001b[0;32m-> 1989\u001b[0m \u001b[38;5;28;43mself\u001b[39;49m\u001b[38;5;241;43m.\u001b[39;49m\u001b[43mserver\u001b[49m\u001b[38;5;241;43m.\u001b[39;49m\u001b[43mrun\u001b[49m\u001b[43m(\u001b[49m\u001b[43mhost\u001b[49m\u001b[38;5;241;43m=\u001b[39;49m\u001b[43mhost\u001b[49m\u001b[43m,\u001b[49m\u001b[43m \u001b[49m\u001b[43mport\u001b[49m\u001b[38;5;241;43m=\u001b[39;49m\u001b[43mport\u001b[49m\u001b[43m,\u001b[49m\u001b[43m \u001b[49m\u001b[43mdebug\u001b[49m\u001b[38;5;241;43m=\u001b[39;49m\u001b[43mdebug\u001b[49m\u001b[43m,\u001b[49m\u001b[43m \u001b[49m\u001b[38;5;241;43m*\u001b[39;49m\u001b[38;5;241;43m*\u001b[39;49m\u001b[43mflask_run_options\u001b[49m\u001b[43m)\u001b[49m\n",
      "File \u001b[0;32m~/miniconda3/envs/py38/lib/python3.8/site-packages/flask/app.py:1191\u001b[0m, in \u001b[0;36mFlask.run\u001b[0;34m(self, host, port, debug, load_dotenv, **options)\u001b[0m\n\u001b[1;32m   1188\u001b[0m \u001b[38;5;28;01mfrom\u001b[39;00m \u001b[38;5;21;01mwerkzeug\u001b[39;00m\u001b[38;5;21;01m.\u001b[39;00m\u001b[38;5;21;01mserving\u001b[39;00m \u001b[38;5;28;01mimport\u001b[39;00m run_simple\n\u001b[1;32m   1190\u001b[0m \u001b[38;5;28;01mtry\u001b[39;00m:\n\u001b[0;32m-> 1191\u001b[0m     \u001b[43mrun_simple\u001b[49m\u001b[43m(\u001b[49m\u001b[43mt\u001b[49m\u001b[38;5;241;43m.\u001b[39;49m\u001b[43mcast\u001b[49m\u001b[43m(\u001b[49m\u001b[38;5;28;43mstr\u001b[39;49m\u001b[43m,\u001b[49m\u001b[43m \u001b[49m\u001b[43mhost\u001b[49m\u001b[43m)\u001b[49m\u001b[43m,\u001b[49m\u001b[43m \u001b[49m\u001b[43mport\u001b[49m\u001b[43m,\u001b[49m\u001b[43m \u001b[49m\u001b[38;5;28;43mself\u001b[39;49m\u001b[43m,\u001b[49m\u001b[43m \u001b[49m\u001b[38;5;241;43m*\u001b[39;49m\u001b[38;5;241;43m*\u001b[39;49m\u001b[43moptions\u001b[49m\u001b[43m)\u001b[49m\n\u001b[1;32m   1192\u001b[0m \u001b[38;5;28;01mfinally\u001b[39;00m:\n\u001b[1;32m   1193\u001b[0m     \u001b[38;5;66;03m# reset the first request information if the development server\u001b[39;00m\n\u001b[1;32m   1194\u001b[0m     \u001b[38;5;66;03m# reset normally.  This makes it possible to restart the server\u001b[39;00m\n\u001b[1;32m   1195\u001b[0m     \u001b[38;5;66;03m# without reloader and that stuff from an interactive shell.\u001b[39;00m\n\u001b[1;32m   1196\u001b[0m     \u001b[38;5;28mself\u001b[39m\u001b[38;5;241m.\u001b[39m_got_first_request \u001b[38;5;241m=\u001b[39m \u001b[38;5;28;01mFalse\u001b[39;00m\n",
      "File \u001b[0;32m~/miniconda3/envs/py38/lib/python3.8/site-packages/werkzeug/serving.py:1059\u001b[0m, in \u001b[0;36mrun_simple\u001b[0;34m(hostname, port, application, use_reloader, use_debugger, use_evalex, extra_files, exclude_patterns, reloader_interval, reloader_type, threaded, processes, request_handler, static_files, passthrough_errors, ssl_context)\u001b[0m\n\u001b[1;32m   1056\u001b[0m \u001b[38;5;28;01mfrom\u001b[39;00m \u001b[38;5;21;01m.\u001b[39;00m\u001b[38;5;21;01m_reloader\u001b[39;00m \u001b[38;5;28;01mimport\u001b[39;00m run_with_reloader\n\u001b[1;32m   1058\u001b[0m \u001b[38;5;28;01mtry\u001b[39;00m:\n\u001b[0;32m-> 1059\u001b[0m     \u001b[43mrun_with_reloader\u001b[49m\u001b[43m(\u001b[49m\n\u001b[1;32m   1060\u001b[0m \u001b[43m        \u001b[49m\u001b[43msrv\u001b[49m\u001b[38;5;241;43m.\u001b[39;49m\u001b[43mserve_forever\u001b[49m\u001b[43m,\u001b[49m\n\u001b[1;32m   1061\u001b[0m \u001b[43m        \u001b[49m\u001b[43mextra_files\u001b[49m\u001b[38;5;241;43m=\u001b[39;49m\u001b[43mextra_files\u001b[49m\u001b[43m,\u001b[49m\n\u001b[1;32m   1062\u001b[0m \u001b[43m        \u001b[49m\u001b[43mexclude_patterns\u001b[49m\u001b[38;5;241;43m=\u001b[39;49m\u001b[43mexclude_patterns\u001b[49m\u001b[43m,\u001b[49m\n\u001b[1;32m   1063\u001b[0m \u001b[43m        \u001b[49m\u001b[43minterval\u001b[49m\u001b[38;5;241;43m=\u001b[39;49m\u001b[43mreloader_interval\u001b[49m\u001b[43m,\u001b[49m\n\u001b[1;32m   1064\u001b[0m \u001b[43m        \u001b[49m\u001b[43mreloader_type\u001b[49m\u001b[38;5;241;43m=\u001b[39;49m\u001b[43mreloader_type\u001b[49m\u001b[43m,\u001b[49m\n\u001b[1;32m   1065\u001b[0m \u001b[43m    \u001b[49m\u001b[43m)\u001b[49m\n\u001b[1;32m   1066\u001b[0m \u001b[38;5;28;01mfinally\u001b[39;00m:\n\u001b[1;32m   1067\u001b[0m     srv\u001b[38;5;241m.\u001b[39mserver_close()\n",
      "File \u001b[0;32m~/miniconda3/envs/py38/lib/python3.8/site-packages/werkzeug/_reloader.py:444\u001b[0m, in \u001b[0;36mrun_with_reloader\u001b[0;34m(main_func, extra_files, exclude_patterns, interval, reloader_type)\u001b[0m\n\u001b[1;32m    442\u001b[0m             reloader\u001b[38;5;241m.\u001b[39mrun()\n\u001b[1;32m    443\u001b[0m     \u001b[38;5;28;01melse\u001b[39;00m:\n\u001b[0;32m--> 444\u001b[0m         \u001b[43msys\u001b[49m\u001b[38;5;241;43m.\u001b[39;49m\u001b[43mexit\u001b[49m\u001b[43m(\u001b[49m\u001b[43mreloader\u001b[49m\u001b[38;5;241;43m.\u001b[39;49m\u001b[43mrestart_with_reloader\u001b[49m\u001b[43m(\u001b[49m\u001b[43m)\u001b[49m\u001b[43m)\u001b[49m\n\u001b[1;32m    445\u001b[0m \u001b[38;5;28;01mexcept\u001b[39;00m \u001b[38;5;167;01mKeyboardInterrupt\u001b[39;00m:\n\u001b[1;32m    446\u001b[0m     \u001b[38;5;28;01mpass\u001b[39;00m\n",
      "\u001b[0;31mSystemExit\u001b[0m: 1"
     ]
    }
   ],
   "source": [
    "%tb"
   ]
  }
 ],
 "metadata": {
  "kernelspec": {
   "display_name": "Python 3 (ipykernel)",
   "language": "python",
   "name": "python3"
  },
  "language_info": {
   "codemirror_mode": {
    "name": "ipython",
    "version": 3
   },
   "file_extension": ".py",
   "mimetype": "text/x-python",
   "name": "python",
   "nbconvert_exporter": "python",
   "pygments_lexer": "ipython3",
   "version": "3.8.12"
  }
 },
 "nbformat": 4,
 "nbformat_minor": 5
}
